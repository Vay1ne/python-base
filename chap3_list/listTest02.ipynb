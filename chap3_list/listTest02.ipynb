{
 "cells": [
  {
   "cell_type": "code",
   "execution_count": 1,
   "metadata": {
    "collapsed": true
   },
   "outputs": [],
   "source": [
    "# 组织列表"
   ]
  },
  {
   "cell_type": "code",
   "execution_count": 4,
   "outputs": [
    {
     "name": "stdout",
     "output_type": "stream",
     "text": [
      "['juran', 'lanlan', 'xiaoming', 'xiaotu']\n",
      "['xiaotu', 'xiaoming', 'lanlan', 'juran']\n"
     ]
    }
   ],
   "source": [
    "# 1.使用方法sort()对列表进行永久性排序\n",
    "students = ['xiaotu', 'juran', 'lanlan', 'xiaoming']\n",
    "students.sort()\n",
    "print(students)\n",
    "students.sort(reverse=True)\n",
    "print(students)"
   ],
   "metadata": {
    "collapsed": false
   }
  },
  {
   "cell_type": "code",
   "execution_count": 5,
   "outputs": [
    {
     "name": "stdout",
     "output_type": "stream",
     "text": [
      "['xiaotu', 'juran', 'lanlan', 'xiaoming']\n",
      "['juran', 'lanlan', 'xiaoming', 'xiaotu']\n",
      "['xiaotu', 'juran', 'lanlan', 'xiaoming']\n"
     ]
    }
   ],
   "source": [
    "# 2.使用函数sorted()对列表进行临时排序\n",
    "students = ['xiaotu', 'juran', 'lanlan', 'xiaoming']\n",
    "print(students)\n",
    "print(sorted(students))\n",
    "print(students)"
   ],
   "metadata": {
    "collapsed": false
   }
  },
  {
   "cell_type": "code",
   "execution_count": 7,
   "outputs": [
    {
     "name": "stdout",
     "output_type": "stream",
     "text": [
      "['xiaotu', 'juran', 'lanlan', 'xiaoming']\n",
      "['xiaoming', 'lanlan', 'juran', 'xiaotu']\n"
     ]
    }
   ],
   "source": [
    "# 3.倒着打印列表\n",
    "students = ['xiaotu', 'juran', 'lanlan', 'xiaoming']\n",
    "print(students)\n",
    "students.reverse()\n",
    "print(students)"
   ],
   "metadata": {
    "collapsed": false
   }
  },
  {
   "cell_type": "code",
   "execution_count": 8,
   "outputs": [
    {
     "data": {
      "text/plain": "4"
     },
     "execution_count": 8,
     "metadata": {},
     "output_type": "execute_result"
    }
   ],
   "source": [
    "# 4.确定列表的长度\n",
    "students = ['xiaotu', 'juran', 'lanlan', 'xiaoming']\n",
    "len(students)"
   ],
   "metadata": {
    "collapsed": false
   }
  },
  {
   "cell_type": "code",
   "execution_count": null,
   "outputs": [],
   "source": [],
   "metadata": {
    "collapsed": false
   }
  }
 ],
 "metadata": {
  "kernelspec": {
   "display_name": "Python 3",
   "language": "python",
   "name": "python3"
  },
  "language_info": {
   "codemirror_mode": {
    "name": "ipython",
    "version": 2
   },
   "file_extension": ".py",
   "mimetype": "text/x-python",
   "name": "python",
   "nbconvert_exporter": "python",
   "pygments_lexer": "ipython2",
   "version": "2.7.6"
  }
 },
 "nbformat": 4,
 "nbformat_minor": 0
}
