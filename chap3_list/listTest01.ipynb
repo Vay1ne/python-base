{
 "cells": [
  {
   "cell_type": "code",
   "execution_count": 5,
   "metadata": {
    "collapsed": true
   },
   "outputs": [],
   "source": [
    "# 修改列表元素"
   ]
  },
  {
   "cell_type": "code",
   "execution_count": 7,
   "outputs": [
    {
     "name": "stdout",
     "output_type": "stream",
     "text": [
      "['xiaotu', 'lanlan', 'juran', 'xiaohong', 'xiaoming']\n",
      "['tushu', 'lanlan', 'juran', 'xiaohong', 'xiaoming']\n"
     ]
    }
   ],
   "source": [
    "students = ['xiaotu', 'lanlan', 'juran', 'xiaohong', 'xiaoming']\n",
    "print(students)\n",
    "students[0] = 'tushu'\n",
    "print(students)"
   ],
   "metadata": {
    "collapsed": false
   }
  },
  {
   "cell_type": "code",
   "execution_count": 8,
   "outputs": [
    {
     "name": "stdout",
     "output_type": "stream",
     "text": [
      "['xiaotu', 'lanlan', 'juran', 'xiaohong', 'xiaoming', 'leizhichao']\n"
     ]
    }
   ],
   "source": [
    "# 在列表中添加元素\n",
    "students = ['xiaotu', 'lanlan', 'juran', 'xiaohong', 'xiaoming']\n",
    "students.append('leizhichao')\n",
    "print(students)"
   ],
   "metadata": {
    "collapsed": false
   }
  },
  {
   "cell_type": "code",
   "execution_count": 9,
   "outputs": [
    {
     "name": "stdout",
     "output_type": "stream",
     "text": [
      "['yangqingyuan', 'xiaotu', 'lanlan', 'juran', 'xiaohong', 'xiaoming']\n"
     ]
    }
   ],
   "source": [
    "# 在列表中插入元素\n",
    "students = ['xiaotu', 'lanlan', 'juran', 'xiaohong', 'xiaoming']\n",
    "students.insert(0,'yangqingyuan')\n",
    "print(students)"
   ],
   "metadata": {
    "collapsed": false
   }
  },
  {
   "cell_type": "code",
   "execution_count": 10,
   "outputs": [
    {
     "name": "stdout",
     "output_type": "stream",
     "text": [
      "['xiaotu', 'lanlan', 'juran', 'xiaohong']\n"
     ]
    }
   ],
   "source": [
    "# 从列表中删除元素\n",
    "# 1.使用del语句删除元素\n",
    "students = ['xiaotu', 'lanlan', 'juran', 'xiaohong', 'xiaoming']\n",
    "del students[4]\n",
    "print(students)"
   ],
   "metadata": {
    "collapsed": false
   }
  },
  {
   "cell_type": "code",
   "execution_count": 12,
   "outputs": [
    {
     "name": "stdout",
     "output_type": "stream",
     "text": [
      "xiaoming\n",
      "['xiaotu', 'lanlan', 'juran', 'xiaohong']\n",
      "lanlan\n"
     ]
    }
   ],
   "source": [
    "# 2.使用pop语句删除元素\n",
    "students = ['xiaotu', 'lanlan', 'juran', 'xiaohong', 'xiaoming']\n",
    "pop_student0 = students.pop()\n",
    "print(pop_student0)\n",
    "print(students)\n",
    "# 3.使用pop弹出列表中任何位置\n",
    "pop_student1 = students.pop(1)\n",
    "print(pop_student1)"
   ],
   "metadata": {
    "collapsed": false
   }
  },
  {
   "cell_type": "code",
   "execution_count": 13,
   "outputs": [
    {
     "name": "stdout",
     "output_type": "stream",
     "text": [
      "['xiaotu', 'lanlan', 'xiaohong', 'xiaoming']\n"
     ]
    }
   ],
   "source": [
    "# 4.根据值删除元素\n",
    "# remove方法只删除第一个指定的值\n",
    "students = ['xiaotu', 'lanlan', 'juran', 'xiaohong', 'xiaoming']\n",
    "students.remove('juran')\n",
    "print(students)"
   ],
   "metadata": {
    "collapsed": false
   }
  }
 ],
 "metadata": {
  "kernelspec": {
   "display_name": "Python 3",
   "language": "python",
   "name": "python3"
  },
  "language_info": {
   "codemirror_mode": {
    "name": "ipython",
    "version": 2
   },
   "file_extension": ".py",
   "mimetype": "text/x-python",
   "name": "python",
   "nbconvert_exporter": "python",
   "pygments_lexer": "ipython2",
   "version": "2.7.6"
  }
 },
 "nbformat": 4,
 "nbformat_minor": 0
}
