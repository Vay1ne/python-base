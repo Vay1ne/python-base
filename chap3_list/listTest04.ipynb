{
 "cells": [
  {
   "cell_type": "code",
   "execution_count": 1,
   "metadata": {
    "collapsed": true
   },
   "outputs": [],
   "source": [
    "# 使用列表的一部分"
   ]
  },
  {
   "cell_type": "code",
   "execution_count": 7,
   "outputs": [
    {
     "name": "stdout",
     "output_type": "stream",
     "text": [
      "['xiaotu', 'juran', 'lanlan']\n",
      "['xiaotu', 'juran', 'lanlan', 'xiaoming']\n",
      "['juran', 'lanlan', 'xiaoming']\n",
      "['juran', 'lanlan', 'xiaoming']\n"
     ]
    }
   ],
   "source": [
    "# 1.切片\n",
    "students = ['xiaotu', 'juran', 'lanlan', 'xiaoming']\n",
    "print(students[0:3])\n",
    "print(students[:4])\n",
    "print(students[1:])\n",
    "print(students[-3:])"
   ],
   "metadata": {
    "collapsed": false
   }
  },
  {
   "cell_type": "code",
   "execution_count": 9,
   "outputs": [
    {
     "name": "stdout",
     "output_type": "stream",
     "text": [
      "['xiaotu', 'juran', 'lanlan', 'xiaoming']\n",
      "False\n"
     ]
    }
   ],
   "source": [
    "# 2.复制列表\n",
    "students = ['xiaotu', 'juran', 'lanlan', 'xiaoming']\n",
    "another_students = students[:]\n",
    "print(another_students)\n",
    "print(another_students is students)"
   ],
   "metadata": {
    "collapsed": false
   }
  }
 ],
 "metadata": {
  "kernelspec": {
   "display_name": "Python 3",
   "language": "python",
   "name": "python3"
  },
  "language_info": {
   "codemirror_mode": {
    "name": "ipython",
    "version": 2
   },
   "file_extension": ".py",
   "mimetype": "text/x-python",
   "name": "python",
   "nbconvert_exporter": "python",
   "pygments_lexer": "ipython2",
   "version": "2.7.6"
  }
 },
 "nbformat": 4,
 "nbformat_minor": 0
}
